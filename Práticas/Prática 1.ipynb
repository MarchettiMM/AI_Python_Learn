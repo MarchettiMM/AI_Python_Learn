{
  "cells": [
    {
      "cell_type": "markdown",
      "metadata": {
        "colab_type": "text",
        "id": "K6zOIqndeuoO"
      },
      "source": [
        "# **Disciplina: EBS 564 – Inteligência Artificial**\n",
        "# **--> Prática 1**"
      ]
    },
    {
      "cell_type": "markdown",
      "metadata": {
        "colab_type": "text",
        "id": "3SWyCi5lvpIu"
      },
      "source": [
        "**1)** Desenvolva um código que leia um vetor de números arbitrários. Leia também um valor *t*. Implemente uma busca sequêncial para encontrar *t* no vetor. Se encontrado, escreva \"Valor encontrado!\". Apresentar quantas iterações do algoritmo foram necessárias para alcançar a resposta."
      ]
    },
    {
      "cell_type": "code",
      "execution_count": null,
      "metadata": {
        "colab": {},
        "colab_type": "code",
        "id": "_613htBDf8HI"
      },
      "outputs": [],
      "source": [
        "vetA = [3, 6, 7, 8, 11, 13, 17, 18, 20, 23, 27, 32, 33]\n",
        "\n",
        "t = 33\n",
        "\n",
        "for i in range(len(vetA)):\n",
        "\n",
        "        print(\"Iteração: \" + str(i+1))\n",
        "\n",
        "        if (vetA[i] == t):\n",
        "            print(\"\\nValor encontrado!\")\n",
        "            break\n"
      ]
    },
    {
      "cell_type": "markdown",
      "metadata": {
        "colab_type": "text",
        "id": "EvpcoS0l0jVZ"
      },
      "source": [
        "### **Uso de Função em Python**\n",
        "\n",
        "O conceito de função provém da matemática e em computação significa um conjunto de instruções que processa um ou mais parâmetros devolvendo o(s) resultado(s). Pode ser entendida como um subprograma (ou sub-rotina) que resolve sistematicamente uma parte específica de um problema maior, podendo ser invocada/chamada para executar sua tarefa."
      ]
    },
    {
      "cell_type": "code",
      "execution_count": null,
      "metadata": {
        "colab": {},
        "colab_type": "code",
        "id": "_J82_Qo8pg2p"
      },
      "outputs": [],
      "source": [
        "# Função\n",
        "def busca_seq(vet, t):\n",
        "  for i in range(len(vet)):\n",
        "    print(\"Iteração: \" + str(i+1))\n",
        "    if (vet == t):\n",
        "      print(\"\\nValor encontrado!\")\n",
        "      break\n",
        "    return i\n",
        "\n",
        "# Código\n",
        "vetA = [3, 6, 7, 8, 11, 13, 17, 18, 20, 23, 27, 32, 33]\n",
        "target = 11\n",
        "busca_seq(vetA, target)\n",
        "posFound = busca_seq(vetA, target)\n",
        "print(\"\\nValor encontrado!\")"
      ]
    },
    {
      "cell_type": "markdown",
      "metadata": {
        "colab_type": "text",
        "id": "SeW61-1l1LiS"
      },
      "source": [
        "\n",
        "**2)** Desenvolver uma função *busca_bin* que receba um vetor de números arbitrários e também um valor *t*. Implemente nela a busca binária para encontrar *t* no vetor. Se encontrado, escreva \"Valor encontrado!\". Escrever na tela também cada uma das iterações necessárias para o algoritmo alcançar a resposta (a exemplo do exercício 1 acima)."
      ]
    },
    {
      "cell_type": "code",
      "execution_count": null,
      "metadata": {
        "colab": {},
        "colab_type": "code",
        "id": "D8ujeBtvs2Lf"
      },
      "outputs": [],
      "source": [
        "import math\n",
        "\n",
        "def busca_binaria(vet, t):\n",
        "    esq, di = 0, len(vet) - 1\n",
        "    while esq <= di:\n",
        "        meio = (esq + di) // 2\n",
        "        if vet[meio] == t:\n",
        "            return meio\n",
        "        elif vet[meio] > t:\n",
        "            di = meio - 1\n",
        "        else: # A[meio] < item\n",
        "            esq = meio + 1\n",
        "    return -1\n",
        "\n",
        "vetorA = [3, 6, 7, 8, 11, 13, 17, 18, 20, 23, 27, 32, 33]\n",
        "target = input('Digite o valor a ser encontrado: ')\n",
        "achado = busca_binaria(vetorA, int(target))\n",
        "if (achado != -1):\n",
        "  print('Valor encontrado!')\n",
        "else:\n",
        "  print('Valor não encontrado.')\n",
        "print('Número de iterações: ' + str(achado+1))"
      ]
    }
  ],
  "metadata": {
    "colab": {
      "collapsed_sections": [],
      "name": "Pratica1.ipynb",
      "provenance": []
    },
    "kernelspec": {
      "display_name": "Python 3",
      "name": "python3"
    },
    "language_info": {
      "codemirror_mode": {
        "name": "ipython",
        "version": 3
      },
      "file_extension": ".py",
      "mimetype": "text/x-python",
      "name": "python",
      "nbconvert_exporter": "python",
      "pygments_lexer": "ipython3",
      "version": "3.9.13"
    }
  },
  "nbformat": 4,
  "nbformat_minor": 0
}
