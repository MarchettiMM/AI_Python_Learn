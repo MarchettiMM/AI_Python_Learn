{
  "cells": [
    {
      "cell_type": "markdown",
      "metadata": {
        "colab_type": "text",
        "id": "K6zOIqndeuoO"
      },
      "source": [
        "# **Disciplina: EBS 564 – Inteligência Artificial**\n",
        "# **--> Prática 2**"
      ]
    },
    {
      "cell_type": "markdown",
      "metadata": {
        "colab_type": "text",
        "id": "3SWyCi5lvpIu"
      },
      "source": [
        "**1)** A função abaixo recebe uma estrutura de matriz de adjacência (G), representando um grafo dirigido com pesos, um índice para o vértice inicial (ini) e outro para o vértice final (last). Executa, então, uma Caminhada Aleatória (Random Walk), a partir do vértice inicial, para alcançar o vértice final."
      ]
    },
    {
      "cell_type": "code",
      "execution_count": null,
      "metadata": {
        "colab": {
          "base_uri": "https://localhost:8080/",
          "height": 136
        },
        "colab_type": "code",
        "id": "_613htBDf8HI",
        "outputId": "7236908e-e4fa-4555-eee4-8820dcc735fd"
      },
      "outputs": [],
      "source": [
        "import numpy as np\n",
        "import itertools\n",
        "import random\n",
        "import math\n",
        "\n",
        "def graphRandomSearch(G, ini, last):\n",
        "\n",
        "    current_node = ini\n",
        "    total_cost = 0\n",
        "    cont = 1\n",
        "\n",
        "    while (cont == 1):\n",
        "\n",
        "        print('Visiting node ' + str(current_node));\n",
        "\n",
        "        # possible next nodes\n",
        "        g = np.asarray(G[current_node][:])\n",
        "        f = np.where(g > 0)\n",
        "        next_nodes = list(itertools.chain.from_iterable(f))\n",
        "\n",
        "        # ============================================================\n",
        "        # Search Method\n",
        "        # ------------------------------------------------------------\n",
        "\n",
        "        # choosing next node randomly\n",
        "        s = random.randint(0,len(next_nodes)-1) # get their indexes\n",
        "\n",
        "        # necessary output (nn and nc)\n",
        "        nn = next_nodes[s]                # next node from index s\n",
        "        nc = G[current_node][nn]          # the cost to the next node\n",
        "\n",
        "        # ============================================================\n",
        "\n",
        "        print('Next node will be ' + str(nn) + ' with cost ' + str(nc))\n",
        "\n",
        "        # computing total cost\n",
        "        total_cost = total_cost + nc\n",
        "\n",
        "        # next node is now the current node\n",
        "        current_node = nn\n",
        "\n",
        "        if (current_node == last):\n",
        "            print('Reached node ' + str(current_node) + ' with total cost ' + str(total_cost))\n",
        "            cont = 0\n",
        "\n",
        "# ============================================================\n",
        "# Testing function\n",
        "G = [[0,80,85,0,0,0],[0,0,0,60,55,0],[0,20,0,70,0,0],[0,0,0,0,35,25],[0,0,0,0,0,20],[0,0,0,0,0,0]]\n",
        "graphRandomSearch(G, 0, 5)\n"
      ]
    },
    {
      "cell_type": "markdown",
      "metadata": {
        "colab_type": "text",
        "id": "EvpcoS0l0jVZ"
      },
      "source": [
        "**2)** Implementar uma função chamada *graphLocalSearch* que receba como entrada uma estrutura de matriz de adjacência (G), representando um grafo dirigido com pesos, um índice para o vértice inicial (ini) e outro para o vértice final (last) e execute, então, uma Busca Local (Local Search), a partir do vértice inicial, para alcançar o vértice final almejando o caminho de custo mínimo."
      ]
    },
    {
      "cell_type": "code",
      "execution_count": null,
      "metadata": {
        "colab": {
          "base_uri": "https://localhost:8080/",
          "height": 391
        },
        "colab_type": "code",
        "id": "_J82_Qo8pg2p",
        "outputId": "b051bcf5-6dfe-4684-b71a-17e9248aa1f8"
      },
      "outputs": [],
      "source": [
        "import numpy as np\n",
        "import itertools\n",
        "import random\n",
        "import math\n",
        "\n",
        "def graphLocalSearch(G, ini, last):\n",
        "\n",
        "    no_atual = ini\n",
        "    custo_total = 0\n",
        "    cont = 1\n",
        "\n",
        "    while (cont == 1):\n",
        "\n",
        "        print('Visitando o nó ' + str(no_atual));\n",
        "\n",
        "        # Próximos nós possíveis\n",
        "        g = np.asarray(G[no_atual][:])\n",
        "        f = np.where(g > 0)\n",
        "        proximo_no = list(itertools.chain.from_iterable(f))\n",
        "\n",
        "        # ============================================================\n",
        "        # Método de busca\n",
        "        # ------------------------------------------------------------\n",
        "\n",
        "        # Escolhendo o nó mais próximo\n",
        "        k = g[proximo_no[0]]\n",
        "        for i in range(0, len(proximo_no)):\n",
        "          if(g[proximo_no[i]]<k):\n",
        "            k = g[proximo_no[i]]\n",
        "        nn = no_atual + 1  # Próximo nó\n",
        "        nc = k          # O custo do próximo nó\n",
        "\n",
        "        # ============================================================\n",
        "\n",
        "        print('O próximo nó será ' + str(nn) + ' com o custo ' + str(nc))\n",
        "\n",
        "        # Calculando o custo total\n",
        "        custo_total = custo_total + nc\n",
        "\n",
        "        # O próximo nó agora é o nó atual\n",
        "        no_atual = nn\n",
        "\n",
        "        if (no_atual == last):\n",
        "            print('\\nChegado ao nó ' + str(no_atual) + ' com o custo total de ' + str(custo_total))\n",
        "            cont = 0\n",
        "\n",
        "# ============================================================\n",
        "# Testando a função\n",
        "print('Matriz de Adjacência\\n')\n",
        "for l in range(0, 6):\n",
        "        for c in range(0, 6):\n",
        "                print(f'[{G[l][c]:^5}]', end='')\n",
        "        print()\n",
        "print('\\n')\n",
        "G = [[0,80,85,0,0,0],[0,0,0,60,55,0],[0,20,0,70,0,0],[0,0,0,0,35,25],[0,0,0,0,0,20],[0,0,0,0,0,0]]\n",
        "graphLocalSearch(G, 0, 5)\n"
      ]
    }
  ],
  "metadata": {
    "colab": {
      "collapsed_sections": [],
      "name": "Copy of Pratica2.ipynb",
      "provenance": []
    },
    "kernelspec": {
      "display_name": "Python 3",
      "name": "python3"
    },
    "language_info": {
      "codemirror_mode": {
        "name": "ipython",
        "version": 3
      },
      "file_extension": ".py",
      "mimetype": "text/x-python",
      "name": "python",
      "nbconvert_exporter": "python",
      "pygments_lexer": "ipython3",
      "version": "3.9.13"
    }
  },
  "nbformat": 4,
  "nbformat_minor": 0
}
