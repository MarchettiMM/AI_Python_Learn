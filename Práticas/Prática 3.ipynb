{
  "cells": [
    {
      "cell_type": "markdown",
      "metadata": {
        "colab_type": "text",
        "id": "K6zOIqndeuoO"
      },
      "source": [
        "# **Disciplina: EBS 564 – Inteligência Artificial**\n",
        "# **--> Prática 3**"
      ]
    },
    {
      "cell_type": "markdown",
      "metadata": {
        "colab_type": "text",
        "id": "3SWyCi5lvpIu"
      },
      "source": [
        "**1)** Implementação do algoritmo Hill Climbing para percorrer plano bidimensional, o qual avalia estados vizinhos à esquerda e à direita do estado atual almejando atingir os pontos máximos da função."
      ]
    },
    {
      "cell_type": "code",
      "execution_count": null,
      "metadata": {
        "colab": {
          "base_uri": "https://localhost:8080/",
          "height": 350
        },
        "colab_type": "code",
        "id": "_613htBDf8HI",
        "outputId": "5f8a3f02-2db0-4446-ca38-1c7772e2afb8"
      },
      "outputs": [],
      "source": [
        "import time\n",
        "import math\n",
        "import random\n",
        "import numpy as np\n",
        "import pylab as plt\n",
        "from IPython import display\n",
        "\n",
        "# ============================================================\n",
        "# Objective Function (Heuristic)\n",
        "# ------------------------------------------------------------\n",
        "def objfunc(x): \n",
        "    return np.sin(x/2.)*np.exp(x/4.)+6.*np.exp(-x/4.)\n",
        "\n",
        "# ============================================================\n",
        "# States preview in the environment\n",
        "# ------------------------------------------------------------\n",
        "def visualize(scatter, x, y): \n",
        "    if (scatter):\n",
        "        plt.plot(x, y, marker='o', markersize=5, color=\"red\")\n",
        "    else:\n",
        "        plt.plot(x, objfunc(x).astype(np.float))\n",
        "    display.clear_output(wait=True)\n",
        "    display.display(plt.gcf())\n",
        "    time.sleep(0.5)\n",
        "    display.clear_output(wait=True)\n",
        "\n",
        "# ============================================================\n",
        "# Hill Climbing Algorithm\n",
        "# ------------------------------------------------------------\n",
        "def hclimbing(state, step):\n",
        "\n",
        "    while True:\n",
        "\n",
        "        evalB = objfunc(state); # current state\n",
        "        stateOLD = state;\n",
        "\n",
        "        visualize(True, state, evalB) # visualize current state\n",
        "\n",
        "        evalA = objfunc(state - step); # left neighbor value\n",
        "        evalC = objfunc(state + step); # right neighbor value\n",
        "\n",
        "        if ((evalA > evalB) and (evalA > evalC)):\n",
        "          state = state - step\n",
        "        elif ((evalA > evalB) and (evalA < evalC)):\n",
        "          state = state + step\n",
        "        elif ((evalB > evalA) and (evalB < evalC)):\n",
        "          state = state + step\n",
        "\n",
        "        if (state == stateOLD):\n",
        "            break\n",
        "\n",
        "    return state\n",
        "\n",
        "# ============================================================\n",
        "# Running tests\n",
        "# ------------------------------------------------------------\n",
        "iniState = random.randint(40,55) # choosing initial state randomly\n",
        "evalIniState = objfunc(iniState)\n",
        "visualize(False, np.arange(40, 55, 0.1), -1) # plot function\n",
        "visualize(True, iniState, evalIniState)      # plot initial state\n",
        "step = 0.2  # step size in the environment\n",
        "\n",
        "finalState = hclimbing(iniState, step)       # run hill climbing\n",
        "\n",
        "print(\"The final state value is: \" +  str(math.ceil(finalState)))"
      ]
    }
  ],
  "metadata": {
    "colab": {
      "collapsed_sections": [],
      "name": "Copy of Pratica3.ipynb",
      "provenance": []
    },
    "kernelspec": {
      "display_name": "Python 3",
      "name": "python3"
    },
    "language_info": {
      "codemirror_mode": {
        "name": "ipython",
        "version": 3
      },
      "file_extension": ".py",
      "mimetype": "text/x-python",
      "name": "python",
      "nbconvert_exporter": "python",
      "pygments_lexer": "ipython3",
      "version": "3.9.13"
    }
  },
  "nbformat": 4,
  "nbformat_minor": 0
}
