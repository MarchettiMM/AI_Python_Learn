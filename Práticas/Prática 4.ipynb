{
  "cells": [
    {
      "cell_type": "markdown",
      "metadata": {
        "colab_type": "text",
        "id": "K6zOIqndeuoO"
      },
      "source": [
        "# **Disciplina: EBS 564 – Inteligência Artificial**\n",
        "# **--> Prática 4**"
      ]
    },
    {
      "cell_type": "markdown",
      "metadata": {
        "colab_type": "text",
        "id": "3SWyCi5lvpIu"
      },
      "source": [
        "**1)** Principais pacotes de uso comum para a Ciência de Dados com exemplo de manipulação de Data Frames via Pandas."
      ]
    },
    {
      "cell_type": "code",
      "execution_count": null,
      "metadata": {
        "colab": {
          "base_uri": "https://localhost:8080/",
          "height": 785
        },
        "colab_type": "code",
        "id": "M3mtHb8QGWrY",
        "outputId": "adf2a43e-0066-4163-9572-4486dc9a7af6"
      },
      "outputs": [],
      "source": [
        "import numpy as np # Pacote para computação científica permitindo manipulação matricial, operações algébricas e estatísticas vetorizadas (https://www.numpy.org/)\n",
        "import scipy as sp # Pacote dependente do NumPy voltado para estatística, otimização, álgebra linear, transformações de Fourier, processamento de sinais (https://scipy.org/scipylib/)\n",
        "import pandas as pd # Pacote para análise e manipulação flexível de dados com estruturas similares aos Data Frames da linguagem R (https://pandas.pydata.org/)\n",
        "import matplotlib.pyplot as plt # Pacote para visualização de dados gerando uma infinidade de diagramas e gráficos (https://matplotlib.org/)\n",
        "import seaborn as sns # Biblioteca de visualização baseada no Matplotlib para gerar gráficos estatísticos mais atraentes (https://seaborn.pydata.org).\n",
        "import plotly.express as px # Biblioteca para gerar visualizações mais sofisticadas que o Matplotlib (https://plotly.com/).\n",
        "\n",
        "# More info:\n",
        "# http://lucasparreiras.cc/2017/10/10/top-15-bibliotecas-python-para-ciencias-de-dados/\n",
        "\n",
        "url = 'https://raw.githubusercontent.com/luizfsc/datasets/master/mastite.csv'\n",
        "\n",
        "df1 = pd.read_csv(url)\n",
        "df2 = df1[['MP']]\n",
        "df3 = df2/df2.max()\n",
        "df1[['MP']] = df3\n",
        "df1"
      ]
    },
    {
      "cell_type": "markdown",
      "metadata": {
        "colab_type": "text",
        "id": "LqdG1yIcIiQ2"
      },
      "source": [
        "**2)** Exemplo de visualização de dados usando o Matplotlib"
      ]
    },
    {
      "cell_type": "code",
      "execution_count": null,
      "metadata": {
        "colab": {
          "base_uri": "https://localhost:8080/",
          "height": 282
        },
        "colab_type": "code",
        "id": "_613htBDf8HI",
        "outputId": "22c5d77f-7d5e-427f-f747-8a6e3319f8a4"
      },
      "outputs": [],
      "source": [
        "import numpy as np # Pacote para computação científica permitindo manipulação matricial, operações algébricas e estatísticas vetorizadas (https://www.numpy.org/)\n",
        "import scipy as sp # Pacote dependente do NumPy voltado para estatística, otimização, álgebra linear, transformações de Fourier, processamento de sinais (https://scipy.org/scipylib/)\n",
        "import pandas as pd # Pacote para análise e manipulação flexível de dados com estruturas similares aos Data Frames da linguagem R (https://pandas.pydata.org/)\n",
        "import matplotlib.pyplot as plt # Pacote para visualização de dados gerando uma infinidade de diagramas e gráficos (https://matplotlib.org/)\n",
        "import seaborn as sns # Biblioteca de visualização baseada no Matplotlib para gerar gráficos estatísticos mais atraentes (https://seaborn.pydata.org).\n",
        "import plotly.express as px # Biblioteca para gerar visualizações mais sofisticadas que o Matplotlib (https://plotly.com/).\n",
        "\n",
        "# More info:\n",
        "# http://felipegalvao.com.br/blog/2016/03/08/visualizacao-de-dados-com-python-matplotlib/\n",
        "# https://medium.com/dunder-data/selecting-subsets-of-data-in-pandas-6fcd0170be9c\n",
        "\n",
        "url = 'https://raw.githubusercontent.com/luizfsc/datasets/master/mastite.csv'\n",
        "columns = ['SCC','IRTU','IRTV','IRTE','CMT','CT','RT','TBC','FAT','PTN','LACT','TS','SNF','MP','Diagnosis']\n",
        "\n",
        "df1 = pd.read_csv(url)\n",
        "print(columns[2:5]) # Slice: to get tree elements starting from 2 you should use [2:5] (5 = 2 + 3)\n",
        "                     # https://stackoverflow.com/questions/509211/understanding-slice-notation\n",
        "df2 = df1[columns[7:10]]\n",
        "df2.plot()\n",
        "df3 = df1[['LACT','MP']]\n",
        "df3.plot()\n",
        "df4 = pd.concat([df2, df3], axis=1)\n",
        "df4.plot()\n",
        "df4"
      ]
    },
    {
      "cell_type": "markdown",
      "metadata": {
        "colab_type": "text",
        "id": "586605vMP0GY"
      },
      "source": [
        "**3)** Realizar a normalização linear re-escalonando entre [0,1] os atributos do conjunto de dados 'Mastite'. Após, identificar, por inspeção visual, dois atributos que possuam tendências similares (significativa correlação entre si) plotando suas curvas via Matplotlib."
      ]
    },
    {
      "cell_type": "code",
      "execution_count": null,
      "metadata": {
        "colab": {
          "base_uri": "https://localhost:8080/",
          "height": 282
        },
        "colab_type": "code",
        "id": "f8mShlK-QuNv",
        "outputId": "4fa30885-8a9e-49fa-c37d-0e1823776f0f"
      },
      "outputs": [],
      "source": [
        "import numpy as np # Pacote para computação científica permitindo manipulação matricial, operações algébricas e estatísticas vetorizadas (https://www.numpy.org/)\n",
        "import scipy as sp # Pacote dependente do NumPy voltado para estatística, otimização, álgebra linear, transformações de Fourier, processamento de sinais (https://scipy.org/scipylib/)\n",
        "import pandas as pd # Pacote para análise e manipulação flexível de dados com estruturas similares aos Data Frames da linguagem R (https://pandas.pydata.org/)\n",
        "import matplotlib.pyplot as plt # Pacote para visualização de dados gerando uma infinidade de diagramas e gráficos (https://matplotlib.org/)\n",
        "import seaborn as sns # Biblioteca de visualização baseada no Matplotlib para gerar gráficos estatísticos mais atraentes (https://seaborn.pydata.org).\n",
        "import plotly.express as px # Biblioteca para gerar visualizações mais sofisticadas que o Matplotlib (https://plotly.com/).\n",
        "\n",
        "url = 'https://raw.githubusercontent.com/luizfsc/datasets/master/mastite.csv'\n",
        "columns = ['SCC','IRTU','IRTV','IRTE','CMT','CT','RT','TBC','FAT','PTN','LACT','TS','SNF','MP','Diagnosis']\n",
        "df1 = pd.read_csv(url)\n",
        "df2 = df1[['LACT','MP']]\n",
        "df3 = (df2 - df2.min())/(df2.max() - df2.min())\n",
        "df3.plot()"
      ]
    }
  ],
  "metadata": {
    "colab": {
      "collapsed_sections": [],
      "name": "Cópia de Pratica4.ipynb",
      "provenance": []
    },
    "kernelspec": {
      "display_name": "Python 3",
      "name": "python3"
    },
    "language_info": {
      "codemirror_mode": {
        "name": "ipython",
        "version": 3
      },
      "file_extension": ".py",
      "mimetype": "text/x-python",
      "name": "python",
      "nbconvert_exporter": "python",
      "pygments_lexer": "ipython3",
      "version": "3.9.13"
    }
  },
  "nbformat": 4,
  "nbformat_minor": 0
}
