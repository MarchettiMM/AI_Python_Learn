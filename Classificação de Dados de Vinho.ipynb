{
  "cells": [
    {
      "cell_type": "markdown",
      "metadata": {
        "colab_type": "text",
        "id": "K6zOIqndeuoO"
      },
      "source": [
        "# **Disciplina: EBS 564 – Inteligência Artificial**\n",
        "# **--> Notebook - Trabalho 2**"
      ]
    },
    {
      "cell_type": "markdown",
      "metadata": {},
      "source": [
        "**Enunciado)** Desenvolva um Classificador de Dados para a predição de tipos de vinhos utilizando a base de dados Wine, rotulando os vinhos nas classes 1, 2 e 3, dependendo de seu cultivar. As entradas do modelo serão suas características químicas (quantidade de álcool, fenóis, magnésio etc) e de aparência (intensidade da cor, matiz etc) utilizando o Classificador SVM. O procedimento experimental para testar os algoritmos deverá ser a validação cruzada de 10 pastas (10-fold cross-validation). Como resultado final, deverá ser apresentada a acurácia média e o desvio padrão."
      ]
    },
    {
      "cell_type": "code",
      "execution_count": null,
      "metadata": {
        "colab": {
          "base_uri": "https://localhost:8080/",
          "height": 493
        },
        "colab_type": "code",
        "id": "M3mtHb8QGWrY",
        "outputId": "75e9ed70-64a3-4d09-d511-fb23bb1fb2dd"
      },
      "outputs": [],
      "source": [
        "import numpy as np \n",
        "import scipy as sp \n",
        "import pandas as pd \n",
        "import matplotlib.pyplot as plt \n",
        "import seaborn as sns \n",
        "import plotly.express as px \n",
        "\n",
        "import sklearn \n",
        "from sklearn.datasets import load_wine \n",
        "dataBunch = load_wine()\n",
        "\n",
        "# type(dataBunch)\n",
        "\n",
        "classes = dataBunch['target_names']\n",
        "labels = dataBunch['target']\n",
        "features = dataBunch['feature_names']\n",
        "data = dataBunch['data']\n",
        "\n",
        "from sklearn.model_selection import train_test_split \n",
        "train, test, train_labels, test_labels = train_test_split(data,\n",
        "                                                           labels,\n",
        "                                                           test_size=0.33,\n",
        "                                                           random_state=42) \n",
        "from sklearn import svm\n",
        "svm = svm.SVC(kernel='sigmoid', C=1) \n",
        "svm.fit(train, train_labels) \n",
        "preds = svm.predict(test) \n",
        "print('Predito\\n', preds)\n",
        "print('Real\\n', test_labels)\n",
        "\n",
        "\n",
        "\n",
        "\n",
        "print('Tabela de Confusão\\n', pd.crosstab(test_labels, preds, rownames=['Real'], colnames=['Predito'], margins=True))\n",
        "\n",
        "\n",
        "from sklearn import metrics\n",
        "print(metrics.classification_report(test_labels, preds, target_names=classes))\n",
        "\n",
        "\n",
        "\n",
        "from sklearn.model_selection import cross_val_score\n",
        "scores = cross_val_score(svm, data, labels, cv=10)\n",
        "print(\"Accuracy: %0.2f (+/- %0.2f)\" % (scores.mean(), scores.std() * 2))"
      ]
    }
  ],
  "metadata": {
    "colab": {
      "collapsed_sections": [],
      "name": "T2 - Matheus Marchetti Melo.ipynb",
      "provenance": []
    },
    "kernelspec": {
      "display_name": "Python 3",
      "name": "python3"
    },
    "language_info": {
      "codemirror_mode": {
        "name": "ipython",
        "version": 3
      },
      "file_extension": ".py",
      "mimetype": "text/x-python",
      "name": "python",
      "nbconvert_exporter": "python",
      "pygments_lexer": "ipython3",
      "version": "3.9.13"
    }
  },
  "nbformat": 4,
  "nbformat_minor": 0
}
