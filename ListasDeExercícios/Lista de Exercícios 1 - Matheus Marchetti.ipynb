{
  "cells": [
    {
      "attachments": {},
      "cell_type": "markdown",
      "metadata": {
        "colab_type": "text",
        "id": "K6zOIqndeuoO"
      },
      "source": [
        "# **Disciplina: EBS 564 – Inteligência Artificial**\n",
        "# **--> Lista de Exercícios 1**"
      ]
    },
    {
      "cell_type": "markdown",
      "metadata": {
        "colab_type": "text",
        "id": "3SWyCi5lvpIu"
      },
      "source": [
        "**1)** Desenvolva um código que leia um vetor de números inteiros de tamanho arbitrário. Crie um mecanismo para buscar o maior valor presente neste vetor. Mostre-o com a sua referida posição na estrutura."
      ]
    },
    {
      "cell_type": "code",
      "execution_count": 1,
      "metadata": {
        "colab": {},
        "colab_type": "code",
        "id": "_613htBDf8HI"
      },
      "outputs": [
        {
          "name": "stdout",
          "output_type": "stream",
          "text": [
            "O maior valor é 8 que está na posição 3\n"
          ]
        }
      ],
      "source": [
        "vetA = [1, 7, 3, 8, 5, 6, 2, 4]\n",
        "\n",
        "maior = vetA[0]\n",
        "indMaior = -1\n",
        "for i in range(0, 8): #inicia em 0 e incrementa até 7. Outros exemplos: range(6, 0, -1) -> inicia em 6 e termina em 1; range(0, 7, 2) -> vai até 6 de 2 em 2.\n",
        "    if (vetA[i] > maior):\n",
        "        maior = vetA[i]\n",
        "        indMaior = i\n",
        "\n",
        "print(\"O maior valor é \" + str(maior) + \" que está na posição \" + str(indMaior))"
      ]
    },
    {
      "cell_type": "markdown",
      "metadata": {
        "colab_type": "text",
        "id": "EvpcoS0l0jVZ"
      },
      "source": [
        "**2)** Desenvolva um código que leia um vetor de caracteres (string) de tamanho arbitrário. Implemente um mecanismo para contar a quantidade de vogais, consoantes e espaços nesta string. Mostre cada uma dessas contagens."
      ]
    },
    {
      "cell_type": "code",
      "execution_count": 18,
      "metadata": {
        "colab": {},
        "colab_type": "code",
        "id": "_J82_Qo8pg2p"
      },
      "outputs": [
        {
          "name": "stdout",
          "output_type": "stream",
          "text": [
            "A frase é: \"O rato roeu\"\n",
            "Número de vogais: 10. Número de consoantes: 8. Número de espaços: 4\n"
          ]
        }
      ],
      "source": [
        "vetStr = input('Digite uma frase: ')\n",
        "contVog = 0\n",
        "contCon = 0\n",
        "contEsp = 0\n",
        "print(f'A frase é: \"{vetStr}\"')\n",
        "for i in vetStr:\n",
        "    if i == 'a' or i == 'e' or i == 'i' or i == 'o' or i == 'u':\n",
        "        contVog += 1\n",
        "        pass\n",
        "    elif i == ' ':\n",
        "        contEsp += 1\n",
        "        pass\n",
        "    else:\n",
        "        contCon += 1\n",
        "        pass\n",
        "print('Número de vogais: ' + str(contVog) + '. Número de consoantes: ' + str(contCon) + '. Número de espaços: ' + str(contEsp))"
      ]
    },
    {
      "cell_type": "markdown",
      "metadata": {
        "colab_type": "text",
        "id": "SeW61-1l1LiS"
      },
      "source": [
        "**3)** Desenvolva um código que leia um vetor de números inteiros de tamanho arbitrário. Mostre quantos números neste vetor são pares e quantos são ímpares. Além disso, caso exista um número superior de elementos pares, em relação aos ímpares, deve-se escrever na tela: “Existem mais números pares do que ímpares”; caso contrário, deve-se escrever: “Existem mais números ímpares do que pares”."
      ]
    },
    {
      "cell_type": "code",
      "execution_count": 14,
      "metadata": {
        "colab": {},
        "colab_type": "code",
        "id": "Arn_3tTeCUI6"
      },
      "outputs": [
        {
          "name": "stdout",
          "output_type": "stream",
          "text": [
            "Quantidade de pares: 4. Quantidade de ímpares: 3\n",
            "Existem mais números pares do que ímpares\n"
          ]
        }
      ],
      "source": [
        "vetA = [8,3,4,6,4,9,3]\n",
        "contPar = 0\n",
        "contImpar = 0\n",
        "for i in range(0, 7):\n",
        "    if ((vetA[i] % 2) ==0):\n",
        "        contPar += 1\n",
        "    else:\n",
        "        contImpar = contImpar + 1\n",
        "print('Quantidade de pares: ' + str(contPar) + '. Quantidade de ímpares: ' + str(contImpar))\n",
        "if (contPar > contImpar):\n",
        "    print('Existem mais números pares do que ímpares')\n",
        "else:\n",
        "    print('Existem mais números ímpares do que pares')"
      ]
    },
    {
      "cell_type": "markdown",
      "metadata": {
        "colab_type": "text",
        "id": "beE0nQFz1olC"
      },
      "source": [
        "**4)** Desenvolva um código que leia um vetor de números inteiros de tamanho arbitrário. Deve-se mostrar quantos números neste vetor são maiores do que a média de todos os elementos do vetor."
      ]
    },
    {
      "cell_type": "code",
      "execution_count": 20,
      "metadata": {
        "colab": {},
        "colab_type": "code",
        "id": "5I8cqol-CdQS"
      },
      "outputs": [
        {
          "name": "stdout",
          "output_type": "stream",
          "text": [
            "Valor da média: 4.571428571428571\n",
            "Valores maiores do que a média: 3\n",
            "Valores menores do que a média: 4\n"
          ]
        }
      ],
      "source": [
        "vetA = [8,5,4,6,4,2,3]\n",
        "soma = 0\n",
        "media = 0\n",
        "contMaior = 0\n",
        "contMenor = 0\n",
        "for i in range (0, 7):\n",
        "    soma = soma + vetA[i]\n",
        "    media = soma / 7\n",
        "for i in range (0, 7):\n",
        "    if (vetA[i] > media):\n",
        "      contMaior = contMaior + 1\n",
        "    else:\n",
        "      contMenor = contMenor + 1\n",
        "print('Valor da média: ' + str(media))\n",
        "print('Valores maiores do que a média: ' + str(contMaior) + '\\nValores menores do que a média: ' + str(contMenor))"
      ]
    },
    {
      "cell_type": "markdown",
      "metadata": {
        "colab_type": "text",
        "id": "T48zLE5t19wI"
      },
      "source": [
        "**5)** Desenvolva um código que leia uma matriz 3x4 de números inteiros. Implemente um mecanismo para buscar o maior valor presente nesta matriz. Mostre-o com a sua referida posição (linha x coluna)."
      ]
    },
    {
      "cell_type": "code",
      "execution_count": 21,
      "metadata": {
        "colab": {},
        "colab_type": "code",
        "id": "wdKgL4exCgQj"
      },
      "outputs": [
        {
          "name": "stdout",
          "output_type": "stream",
          "text": [
            "O maior valor é o número 50 está na linha 2 e na coluna 3\n"
          ]
        }
      ],
      "source": [
        "matrizA = [[0, 1, 2, 3], [4, 5, 50, 7], [8, 9, 10, 11]]\n",
        "maiorValor = 0\n",
        "posicaoLinha = 0\n",
        "posicaoColuna = 0\n",
        "valor = 0\n",
        "for l in range(0,3):\n",
        "    for c in range(0,4):\n",
        "        if (matrizA[l][c] > maiorValor):\n",
        "          maiorValor = matrizA[l][c]\n",
        "          posicaoLinha = l\n",
        "          posicaoColuna = c\n",
        "          valor = matrizA[l][c]\n",
        "print('O maior valor é o número ' + str(valor) + ' está na linha ' + str(posicaoLinha+1) + ' e na coluna ' + str(posicaoColuna+1))"
      ]
    },
    {
      "cell_type": "markdown",
      "metadata": {
        "colab_type": "text",
        "id": "ApaTg5Um3HS-"
      },
      "source": [
        "**6)** Desenvolva um código que leia uma matriz 3x4 de números inteiros. Leia também um valor *t*. Implemente um mecanismo para buscar o valor de *t* na matriz. Se encontrado, escreva “Valor encontrado na posição AxB”, onde A e B são, respectivamente, a linha e a coluna da matriz onde se encontra o valor de *t*, caso contrário, escreva: “Valor não encontrado”."
      ]
    },
    {
      "cell_type": "code",
      "execution_count": 28,
      "metadata": {
        "colab": {},
        "colab_type": "code",
        "id": "2_XWWcaCCguy"
      },
      "outputs": [
        {
          "name": "stdout",
          "output_type": "stream",
          "text": [
            "Valor encontrado na linha 2 e na coluna 1\n",
            "Valor não encontrado!\n"
          ]
        }
      ],
      "source": [
        "matrizA = [[0, 1, 2, 3], [4, 5, 50, 7], [8, 9, 10, 11]]\n",
        "t = int(input('Digite um número para ser encontrado: '))\n",
        "posicaoLinha = 0\n",
        "posicaoColuna = 0\n",
        "for l in range(0,3):\n",
        "    for c in range(0,4):\n",
        "      if (matrizA[l][c] == t):\n",
        "        posicaoLinha = l\n",
        "        posicaoColuna = c\n",
        "        print('Valor encontrado na linha ' +str(posicaoLinha+1) + ' e na coluna ' + str(posicaoColuna+1))\n",
        "      else:\n",
        "        pass\n",
        "print('Valor não encontrado!')"
      ]
    },
    {
      "cell_type": "markdown",
      "metadata": {
        "colab_type": "text",
        "id": "7dKsxmAV3oLc"
      },
      "source": [
        "**7)** Desenvolva um código que leia uma matriz 2x5 de números inteiros. Leia também um valor multiplicador *m*. Cada elemento da matriz deverá ser multiplicado por *m*. Apresente como saída uma nova matriz 2x5 com os respectivos valores multiplicados da matriz original."
      ]
    },
    {
      "cell_type": "code",
      "execution_count": 32,
      "metadata": {
        "colab": {},
        "colab_type": "code",
        "id": "gCFWkjxVChkq"
      },
      "outputs": [
        {
          "name": "stdout",
          "output_type": "stream",
          "text": [
            "\n",
            "Nova matriz: \n",
            "[  0  ][  4  ][  8  ][ 12  ][ 16  ][ 20  ][ 24  ][ 28  ][ 32  ][ 36  ]"
          ]
        }
      ],
      "source": [
        "matrizA = [[0, 1, 2, 3, 4], [5, 6, 7, 8, 9]]\n",
        "novamatriz = [[0, 0, 0, 0, 0,], [0, 0, 0, 0, 0]]\n",
        "m = input('Digite um valor para multiplicar a matriz: ')\n",
        "for l in range(0, 2):\n",
        "    for c in range(0, 5):\n",
        "        novamatriz[l][c] = matrizA[l][c] * int(m)\n",
        "print('\\nNova matriz: ')\n",
        "for l in range(0, 2):\n",
        "    for c in range(0, 5):\n",
        "        print(f'[{novamatriz[l][c]:^5}]', end='')"
      ]
    }
  ],
  "metadata": {
    "colab": {
      "collapsed_sections": [],
      "name": "Lista de Exercícios 1 - Matheus Marchetti Melo.ipynb",
      "provenance": []
    },
    "kernelspec": {
      "display_name": "Python 3",
      "name": "python3"
    },
    "language_info": {
      "codemirror_mode": {
        "name": "ipython",
        "version": 3
      },
      "file_extension": ".py",
      "mimetype": "text/x-python",
      "name": "python",
      "nbconvert_exporter": "python",
      "pygments_lexer": "ipython3",
      "version": "3.9.13"
    }
  },
  "nbformat": 4,
  "nbformat_minor": 0
}
